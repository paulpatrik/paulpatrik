{
 "cells": [
  {
   "cell_type": "code",
   "execution_count": 1,
   "metadata": {},
   "outputs": [],
   "source": [
    "import cv2\n",
    "import numpy as np"
   ]
  },
  {
   "cell_type": "markdown",
   "metadata": {},
   "source": [
    "<H5>Load and Display the image"
   ]
  },
  {
   "cell_type": "code",
   "execution_count": 6,
   "metadata": {},
   "outputs": [],
   "source": [
    "img = cv2.imread('Logo.jpg',-1) \n",
    "cv2.imshow('Image',img)\n",
    "cv2.waitKey(0)\n",
    "cv2.destroyAllWindows()"
   ]
  },
  {
   "cell_type": "markdown",
   "metadata": {},
   "source": [
    "<H6>Resize image"
   ]
  },
  {
   "cell_type": "code",
   "execution_count": 11,
   "metadata": {},
   "outputs": [],
   "source": [
    "img = cv2.resize(img,(500,500))\n",
    "cv2.imshow('Image',img)\n",
    "cv2.waitKey(0)\n",
    "cv2.destroyAllWindows()"
   ]
  },
  {
   "cell_type": "markdown",
   "metadata": {},
   "source": [
    "<h6>Rotate image"
   ]
  },
  {
   "cell_type": "code",
   "execution_count": 12,
   "metadata": {},
   "outputs": [],
   "source": [
    "img = cv2.rotate(img,cv2.cv2.ROTATE_90_CLOCKWISE)\n",
    "cv2.imshow('Image',img)\n",
    "cv2.waitKey(0)\n",
    "cv2.destroyAllWindows()"
   ]
  },
  {
   "cell_type": "markdown",
   "metadata": {},
   "source": [
    "<H6>Write to file"
   ]
  },
  {
   "cell_type": "code",
   "execution_count": 13,
   "metadata": {},
   "outputs": [
    {
     "data": {
      "text/plain": [
       "True"
      ]
     },
     "execution_count": 13,
     "metadata": {},
     "output_type": "execute_result"
    }
   ],
   "source": [
    "cv2.imwrite('new_img.jpg',img)"
   ]
  },
  {
   "cell_type": "code",
   "execution_count": 36,
   "metadata": {},
   "outputs": [
    {
     "name": "stdout",
     "output_type": "stream",
     "text": [
      "(355, 474, 3)\n"
     ]
    }
   ],
   "source": [
    "print(img.shape)"
   ]
  },
  {
   "cell_type": "markdown",
   "metadata": {},
   "source": [
    "<h6>Manipulate pixels"
   ]
  },
  {
   "cell_type": "code",
   "execution_count": 7,
   "metadata": {},
   "outputs": [],
   "source": [
    "import random\n",
    "imgcpy = img\n",
    "for i in range (50,150):\n",
    "    for j in range(50,150):\n",
    "        imgcpy[i][j] = [random.randint(0,255), random.randint(0,255), random.randint(0,255)]\n",
    "cv2.imshow('Image',imgcpy)\n",
    "cv2.waitKey(0)\n",
    "cv2.destroyAllWindows()"
   ]
  },
  {
   "cell_type": "code",
   "execution_count": 8,
   "metadata": {},
   "outputs": [],
   "source": [
    "icon = img[20:700][10:200]\n",
    "cv2.imshow('Image',icon)\n",
    "cv2.waitKey(0)\n",
    "cv2.destroyAllWindows()"
   ]
  },
  {
   "cell_type": "code",
   "execution_count": 46,
   "metadata": {},
   "outputs": [
    {
     "data": {
      "text/plain": [
       "(190, 474, 3)"
      ]
     },
     "execution_count": 46,
     "metadata": {},
     "output_type": "execute_result"
    }
   ],
   "source": [
    "icon.shape"
   ]
  },
  {
   "cell_type": "markdown",
   "metadata": {},
   "source": [
    "<h6>Load Camera"
   ]
  },
  {
   "cell_type": "code",
   "execution_count": 11,
   "metadata": {},
   "outputs": [],
   "source": [
    "video = cv2.VideoCapture(0)\n",
    "\n",
    "while True:\n",
    "    ret, frame = video.read()\n",
    "    cv2.imshow('Frames', frame)\n",
    "    \n",
    "    if cv2.waitKey(1) == ord('q'):\n",
    "        break\n",
    "cv2.destroyAllWindows()\n",
    "video.release()"
   ]
  },
  {
   "cell_type": "markdown",
   "metadata": {},
   "source": [
    "<H6>Manipulate Camera feed - 4 of me"
   ]
  },
  {
   "cell_type": "code",
   "execution_count": 12,
   "metadata": {},
   "outputs": [],
   "source": [
    "video = cv2.VideoCapture(0)\n",
    "\n",
    "while True:\n",
    "    ret, frame = video.read()\n",
    "    width = int(video.get(3))\n",
    "    height = int(video.get(4))\n",
    "    new_frame = np.zeros(frame.shape, np.uint8)\n",
    "    \n",
    "    shrinked_frame = cv2.resize(frame,(0,0), fx=0.5, fy=0.5)   \n",
    "    \n",
    "    new_frame[:height//2, :width//2] = shrinked_frame\n",
    "    new_frame[height//2:, :width//2] = shrinked_frame\n",
    "    new_frame[:height//2, width//2:] = shrinked_frame\n",
    "    new_frame[height//2:, width//2:] = shrinked_frame   \n",
    "    \n",
    "    \n",
    "    cv2.imshow('Frames', new_frame)\n",
    "     \n",
    "    if cv2.waitKey(1) == ord('q'):\n",
    "        break\n",
    "cv2.destroyAllWindows()\n",
    "video.release()"
   ]
  },
  {
   "cell_type": "markdown",
   "metadata": {},
   "source": [
    "<H6>Manipulate Camera feed - 4 of me rotated"
   ]
  },
  {
   "cell_type": "code",
   "execution_count": 13,
   "metadata": {},
   "outputs": [],
   "source": [
    "video = cv2.VideoCapture(0)\n",
    "\n",
    "while True:\n",
    "    ret, frame = video.read()\n",
    "    width = int(video.get(3))\n",
    "    height = int(video.get(4))\n",
    "    new_frame = np.zeros(frame.shape, np.uint8)\n",
    "    \n",
    "    shrinked_frame = cv2.resize(frame,(0,0), fx=0.5, fy=0.5)\n",
    "    \n",
    "    \n",
    "    new_frame[:height//2, :width//2] = shrinked_frame\n",
    "    new_frame[height//2:, :width//2] = cv2.rotate(shrinked_frame, cv2.cv2.ROTATE_180)\n",
    "    new_frame[:height//2, width//2:] = cv2.rotate(shrinked_frame, cv2.cv2.ROTATE_180)\n",
    "    new_frame[height//2:, width//2:] = shrinked_frame   \n",
    "    \n",
    "    \n",
    "    cv2.imshow('Frames', new_frame)\n",
    "    \n",
    "    if cv2.waitKey(1) == ord('q'):\n",
    "        break\n",
    "cv2.destroyAllWindows()\n",
    "video.release()"
   ]
  },
  {
   "cell_type": "markdown",
   "metadata": {},
   "source": [
    "<h6>Adding a mask on the video feed"
   ]
  },
  {
   "cell_type": "code",
   "execution_count": 5,
   "metadata": {},
   "outputs": [],
   "source": [
    "video = cv2.VideoCapture(0)\n",
    "\n",
    "while True:\n",
    "    ret, frame = video.read()\n",
    "    hsv = cv2.cvtColor(frame, cv2.COLOR_BGR2HSV)\n",
    "    \n",
    "    blue_lower = np.array([90,50,50])\n",
    "    blue_upper = np.array([130,255,255])\n",
    "    \n",
    "    mask = cv2.inRange(hsv, blue_lower, blue_upper)\n",
    "    \n",
    "    result = cv2.bitwise_and(frame,frame,mask=mask)\n",
    "    \n",
    "    #cv2.imshow('Frames', mask)\n",
    "    cv2.imshow('Frames', result)  \n",
    "    if cv2.waitKey(1) == ord('q'):\n",
    "        break\n",
    "cv2.destroyAllWindows()\n",
    "video.release()"
   ]
  },
  {
   "cell_type": "markdown",
   "metadata": {},
   "source": [
    "<h6>Corner Detection"
   ]
  },
  {
   "cell_type": "code",
   "execution_count": 4,
   "metadata": {},
   "outputs": [],
   "source": [
    "video = cv2.VideoCapture(0)\n",
    "\n",
    "while True:\n",
    "    ret, frame = video.read()\n",
    "    cv2.imshow('Frames', frame)\n",
    "    grayscale = cv2.cvtColor(frame, cv2.COLOR_BGR2GRAY)\n",
    "    \n",
    "    #Floating point values\n",
    "    corners = cv2.goodFeaturesToTrack(grayscale, 100,0.01,75)\n",
    "    corners = np.int0(corners)\n",
    "    \n",
    "    #Apply corners as circles in the frame\n",
    "    for corner in corners:\n",
    "        x,y = corner.ravel()\n",
    "        cv2.circle(frame,(x,y),5,(0,0,255), -1)\n",
    "        \n",
    "    cv2.imshow('Frames', frame)\n",
    "    \n",
    "    if cv2.waitKey(1) == ord('q'):\n",
    "        break\n",
    "cv2.destroyAllWindows()\n",
    "video.release()"
   ]
  },
  {
   "cell_type": "markdown",
   "metadata": {},
   "source": [
    "<h6> Real Time Object Detection"
   ]
  },
  {
   "cell_type": "code",
   "execution_count": 6,
   "metadata": {},
   "outputs": [],
   "source": [
    "#Read image in grayscale\n",
    "template = cv2.imread('box.jpg',0)\n",
    "h,w = template.shape\n",
    "methods = [cv2.TM_CCOEFF, cv2.TM_CCOEFF_NORMED, cv2.TM_CCORR, cv2.TM_CCORR_NORMED, cv2.TM_SQDIFF, cv2.TM_SQDIFF_NORMED]\n",
    "\n",
    "\n",
    "video = cv2.VideoCapture(0)\n",
    "\n",
    "while True:\n",
    "    ret, frame = video.read()\n",
    "    \n",
    "    grayscale = cv2.cvtColor(frame, cv2.COLOR_BGR2GRAY)\n",
    "    for method in methods:\n",
    "        \n",
    "        result = cv2.matchTemplate(grayscale,template, method)\n",
    "        min_val, max_val, min_loc, max_loc = cv2.minMaxLoc(result)\n",
    "        #print(min_loc,max_loc)\n",
    "        if method in [cv2.TM_SQDIFF, cv2.TM_SQDIFF_NORMED]:\n",
    "            location = min_loc\n",
    "        else:\n",
    "            location = max_loc\n",
    "        \n",
    "        rectangle_bottom = (location[0] + w, location[1] + h)\n",
    "        cv2.rectangle(frame,location,rectangle_bottom,255,2)\n",
    "        \n",
    "    cv2.imshow('Frames', frame)\n",
    "        \n",
    "    if cv2.waitKey(1) == ord('q'):\n",
    "        break\n",
    "cv2.destroyAllWindows()\n",
    "video.release()\n"
   ]
  },
  {
   "cell_type": "code",
   "execution_count": null,
   "metadata": {},
   "outputs": [],
   "source": []
  }
 ],
 "metadata": {
  "kernelspec": {
   "display_name": "Python 3",
   "language": "python",
   "name": "python3"
  },
  "language_info": {
   "codemirror_mode": {
    "name": "ipython",
    "version": 3
   },
   "file_extension": ".py",
   "mimetype": "text/x-python",
   "name": "python",
   "nbconvert_exporter": "python",
   "pygments_lexer": "ipython3",
   "version": "3.7.1"
  }
 },
 "nbformat": 4,
 "nbformat_minor": 2
}
