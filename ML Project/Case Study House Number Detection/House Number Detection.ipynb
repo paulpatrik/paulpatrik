{
 "cells": [
  {
   "cell_type": "code",
   "execution_count": 83,
   "metadata": {},
   "outputs": [],
   "source": [
    "import numpy as np\n",
    "import cv2\n",
    "import os\n",
    "import pandas as pd\n",
    "import h5py\n",
    "%matplotlib inline \n",
    "from matplotlib import pyplot as plt\n"
   ]
  },
  {
   "cell_type": "code",
   "execution_count": 84,
   "metadata": {},
   "outputs": [
    {
     "name": "stdout",
     "output_type": "stream",
     "text": [
      "Training set (42000, 32, 32) (42000,)\n",
      "Validation set (60000, 32, 32) (60000,)\n",
      "Test set (18000, 32, 32) (18000,)\n"
     ]
    }
   ],
   "source": [
    "# Open the file as readonly\n",
    "h5f = h5py.File('SVHN_single_grey1.h5', 'r')\n",
    "\n",
    "# Load the training, test and validation set\n",
    "X_train = h5f['X_train'][:]\n",
    "y_train = h5f['y_train'][:]\n",
    "X_test = h5f['X_test'][:]\n",
    "y_test = h5f['y_test'][:]\n",
    "X_val = h5f['X_val'][:]\n",
    "y_val = h5f['y_val'][:]\n",
    "\n",
    "# Close this file\n",
    "h5f.close()\n",
    "\n",
    "print('Training set', X_train.shape, y_train.shape)\n",
    "print('Validation set', X_val.shape, y_val.shape)\n",
    "print('Test set', X_test.shape, y_test.shape)"
   ]
  },
  {
   "cell_type": "code",
   "execution_count": 85,
   "metadata": {},
   "outputs": [
    {
     "data": {
      "image/png": "[encoded data removed]",
      "text/plain": [
       "<Figure size 432x288 with 1 Axes>"
      ]
     },
     "metadata": {
      "needs_background": "light"
     },
     "output_type": "display_data"
    },
    {
     "name": "stdout",
     "output_type": "stream",
     "text": [
      "1\n"
     ]
    }
   ],
   "source": [
    "#Randomly print an image and it's label\n",
    "plt.imshow(X_train[15000])\n",
    "plt.show()\n",
    "print(y_train[15000])"
   ]
  },
  {
   "cell_type": "code",
   "execution_count": 86,
   "metadata": {},
   "outputs": [],
   "source": [
    "import keras\n",
    "import numpy as np\n",
    "import cv2\n",
    "import os\n",
    "import pandas as pd\n",
    "import matplotlib.pyplot as plt\n",
    "from keras.layers import Conv2D, Dense, Input, Dropout, Flatten, Activation, MaxPooling2D, AveragePooling2D, BatchNormalization\n",
    "from keras.models import Sequential, Model\n",
    "from keras.optimizers import Adam, SGD, RMSprop\n",
    "from keras import backend as K\n",
    "from keras.utils.np_utils import to_categorical  \n",
    "from keras.models import load_model\n",
    "from keras.preprocessing.image import ImageDataGenerator\n",
    "from keras.callbacks import ModelCheckpoint\n",
    "from keras.models import model_from_json\n",
    "import json\n",
    "from sklearn.model_selection import train_test_split\n",
    "K.set_image_dim_ordering('tf') \n"
   ]
  },
  {
   "cell_type": "code",
   "execution_count": 87,
   "metadata": {},
   "outputs": [],
   "source": [
    "import tensorflow as tf"
   ]
  },
  {
   "cell_type": "code",
   "execution_count": 88,
   "metadata": {},
   "outputs": [],
   "source": [
    "y_train = tf.keras.utils.to_categorical(y_train,num_classes=10)\n",
    "y_test = tf.keras.utils.to_categorical(y_test,num_classes=10)\n",
    "y_val = tf.keras.utils.to_categorical(y_val,num_classes=10)"
   ]
  },
  {
   "cell_type": "code",
   "execution_count": 89,
   "metadata": {},
   "outputs": [
    {
     "data": {
      "text/plain": [
       "array([0., 0., 1., 0., 0., 0., 0., 0., 0., 0.], dtype=float32)"
      ]
     },
     "execution_count": 89,
     "metadata": {},
     "output_type": "execute_result"
    }
   ],
   "source": [
    "y_train[0]"
   ]
  },
  {
   "cell_type": "code",
   "execution_count": 103,
   "metadata": {},
   "outputs": [],
   "source": [
    "model1 = tf.keras.Sequential()\n",
    "\n",
    "#Flatten layer 32 x 32 = 1024 parameters\n",
    "model1.add(tf.keras.layers.Reshape((1024,), input_shape=(32,32,)))\n",
    "\n",
    "model1.add(tf.keras.layers.BatchNormalization())\n",
    "\n",
    "#First hidden layer\n",
    "model1.add(tf.keras.layers.Dense(512,activation='relu'))\n",
    "model1.add(tf.keras.layers.Dense(256,activation='relu'))\n",
    "model1.add(tf.keras.layers.Dense(128,activation='relu'))\n",
    "model1.add(tf.keras.layers.Dense(64,activation='relu'))\n",
    "model1.add(tf.keras.layers.Dense(32,activation='relu'))\n",
    "\n",
    "model1.add(tf.keras.layers.Dense(10,activation='softmax'))\n",
    "\n",
    "#Compile\n",
    "model1.compile(optimizer='adam',loss='categorical_crossentropy',metrics=['accuracy'])\n"
   ]
  },
  {
   "cell_type": "code",
   "execution_count": 91,
   "metadata": {},
   "outputs": [
    {
     "name": "stdout",
     "output_type": "stream",
     "text": [
      "_________________________________________________________________\n",
      "Layer (type)                 Output Shape              Param #   \n",
      "=================================================================\n",
      "reshape (Reshape)            (None, 1024)              0         \n",
      "_________________________________________________________________\n",
      "activation (Activation)      (None, 1024)              0         \n",
      "_________________________________________________________________\n",
      "dense (Dense)                (None, 512)               524800    \n",
      "_________________________________________________________________\n",
      "dense_1 (Dense)              (None, 256)               131328    \n",
      "_________________________________________________________________\n",
      "dense_2 (Dense)              (None, 128)               32896     \n",
      "_________________________________________________________________\n",
      "dense_3 (Dense)              (None, 64)                8256      \n",
      "_________________________________________________________________\n",
      "dense_4 (Dense)              (None, 32)                2080      \n",
      "_________________________________________________________________\n",
      "dense_5 (Dense)              (None, 10)                330       \n",
      "=================================================================\n",
      "Total params: 699,690\n",
      "Trainable params: 699,690\n",
      "Non-trainable params: 0\n",
      "_________________________________________________________________\n"
     ]
    }
   ],
   "source": [
    "model.summary()"
   ]
  },
  {
   "cell_type": "code",
   "execution_count": 92,
   "metadata": {},
   "outputs": [
    {
     "name": "stdout",
     "output_type": "stream",
     "text": [
      "Train on 42000 samples, validate on 60000 samples\n",
      "Epoch 1/5\n",
      "42000/42000 [==============================] - 2s 43us/sample - loss: 1.8289 - acc: 0.3507 - val_loss: 1.2934 - val_acc: 0.5814\n",
      "Epoch 2/5\n",
      "42000/42000 [==============================] - 1s 30us/sample - loss: 1.0555 - acc: 0.6649 - val_loss: 0.9147 - val_acc: 0.7117\n",
      "Epoch 3/5\n",
      "42000/42000 [==============================] - 1s 31us/sample - loss: 0.8262 - acc: 0.7435 - val_loss: 0.7211 - val_acc: 0.7817\n",
      "Epoch 4/5\n",
      "42000/42000 [==============================] - 1s 31us/sample - loss: 0.7061 - acc: 0.7820 - val_loss: 0.6532 - val_acc: 0.8011\n",
      "Epoch 5/5\n",
      "42000/42000 [==============================] - 1s 31us/sample - loss: 0.6248 - acc: 0.8075 - val_loss: 0.5922 - val_acc: 0.8201\n"
     ]
    },
    {
     "data": {
      "text/plain": [
       "<tensorflow.python.keras.callbacks.History at 0x2070e63eb38>"
      ]
     },
     "execution_count": 92,
     "metadata": {},
     "output_type": "execute_result"
    }
   ],
   "source": [
    "model1.fit(X_train,y_train,validation_data=(X_val,y_val), epochs=5, batch_size=500)"
   ]
  },
  {
   "cell_type": "code",
   "execution_count": 93,
   "metadata": {},
   "outputs": [
    {
     "name": "stdout",
     "output_type": "stream",
     "text": [
      "Train on 42000 samples, validate on 60000 samples\n",
      "Epoch 1/10\n",
      "42000/42000 [==============================] - 1s 30us/sample - loss: 0.5703 - acc: 0.8225 - val_loss: 0.5404 - val_acc: 0.8359\n",
      "Epoch 2/10\n",
      "42000/42000 [==============================] - 1s 30us/sample - loss: 0.5196 - acc: 0.8391 - val_loss: 0.5384 - val_acc: 0.8365\n",
      "Epoch 3/10\n",
      "42000/42000 [==============================] - 1s 31us/sample - loss: 0.4846 - acc: 0.8472 - val_loss: 0.4951 - val_acc: 0.8489\n",
      "Epoch 4/10\n",
      "42000/42000 [==============================] - 1s 34us/sample - loss: 0.4567 - acc: 0.8575 - val_loss: 0.4623 - val_acc: 0.8597\n",
      "Epoch 5/10\n",
      "42000/42000 [==============================] - 1s 35us/sample - loss: 0.4251 - acc: 0.8667 - val_loss: 0.4337 - val_acc: 0.8713\n",
      "Epoch 6/10\n",
      "42000/42000 [==============================] - 1s 30us/sample - loss: 0.3958 - acc: 0.8749 - val_loss: 0.4491 - val_acc: 0.8648\n",
      "Epoch 7/10\n",
      "42000/42000 [==============================] - 1s 32us/sample - loss: 0.3706 - acc: 0.8840 - val_loss: 0.4170 - val_acc: 0.8765\n",
      "Epoch 8/10\n",
      "42000/42000 [==============================] - 1s 31us/sample - loss: 0.3442 - acc: 0.8920 - val_loss: 0.3990 - val_acc: 0.8833\n",
      "Epoch 9/10\n",
      "42000/42000 [==============================] - 1s 30us/sample - loss: 0.3271 - acc: 0.8948 - val_loss: 0.3831 - val_acc: 0.8889\n",
      "Epoch 10/10\n",
      "42000/42000 [==============================] - 1s 32us/sample - loss: 0.3075 - acc: 0.9021 - val_loss: 0.3600 - val_acc: 0.8966\n"
     ]
    },
    {
     "data": {
      "text/plain": [
       "<tensorflow.python.keras.callbacks.History at 0x2070e63e9e8>"
      ]
     },
     "execution_count": 93,
     "metadata": {},
     "output_type": "execute_result"
    }
   ],
   "source": [
    "model1.fit(X_train,y_train,validation_data=(X_val,y_val), epochs=10, batch_size=500)"
   ]
  },
  {
   "cell_type": "code",
   "execution_count": 104,
   "metadata": {},
   "outputs": [
    {
     "name": "stdout",
     "output_type": "stream",
     "text": [
      "Train on 42000 samples, validate on 60000 samples\n",
      "Epoch 1/20\n",
      "42000/42000 [==============================] - 2s 43us/sample - loss: 1.6411 - acc: 0.4342 - val_loss: 1.1435 - val_acc: 0.6417\n",
      "Epoch 2/20\n",
      "42000/42000 [==============================] - 1s 29us/sample - loss: 0.9638 - acc: 0.6982 - val_loss: 0.8511 - val_acc: 0.7360\n",
      "Epoch 3/20\n",
      "42000/42000 [==============================] - 1s 31us/sample - loss: 0.7872 - acc: 0.7551 - val_loss: 0.7236 - val_acc: 0.7758\n",
      "Epoch 4/20\n",
      "42000/42000 [==============================] - 1s 30us/sample - loss: 0.6830 - acc: 0.7882 - val_loss: 0.6388 - val_acc: 0.8034\n",
      "Epoch 5/20\n",
      "42000/42000 [==============================] - 1s 31us/sample - loss: 0.6099 - acc: 0.8094 - val_loss: 0.5814 - val_acc: 0.8229\n",
      "Epoch 6/20\n",
      "42000/42000 [==============================] - 1s 30us/sample - loss: 0.5572 - acc: 0.8276 - val_loss: 0.5282 - val_acc: 0.8393\n",
      "Epoch 7/20\n",
      "42000/42000 [==============================] - 1s 30us/sample - loss: 0.5096 - acc: 0.8415 - val_loss: 0.4893 - val_acc: 0.8528\n",
      "Epoch 8/20\n",
      "42000/42000 [==============================] - 1s 31us/sample - loss: 0.4611 - acc: 0.8566 - val_loss: 0.4644 - val_acc: 0.8611\n",
      "Epoch 9/20\n",
      "42000/42000 [==============================] - 1s 30us/sample - loss: 0.4390 - acc: 0.8625 - val_loss: 0.4393 - val_acc: 0.8684\n",
      "Epoch 10/20\n",
      "42000/42000 [==============================] - 1s 31us/sample - loss: 0.4100 - acc: 0.8735 - val_loss: 0.4709 - val_acc: 0.8579\n",
      "Epoch 11/20\n",
      "42000/42000 [==============================] - 1s 30us/sample - loss: 0.3797 - acc: 0.8805 - val_loss: 0.4140 - val_acc: 0.8796\n",
      "Epoch 12/20\n",
      "42000/42000 [==============================] - 1s 30us/sample - loss: 0.3540 - acc: 0.8881 - val_loss: 0.4049 - val_acc: 0.8808\n",
      "Epoch 13/20\n",
      "42000/42000 [==============================] - 1s 31us/sample - loss: 0.3353 - acc: 0.8940 - val_loss: 0.3909 - val_acc: 0.8856\n",
      "Epoch 14/20\n",
      "42000/42000 [==============================] - 1s 30us/sample - loss: 0.3091 - acc: 0.9020 - val_loss: 0.4067 - val_acc: 0.8817\n",
      "Epoch 15/20\n",
      "42000/42000 [==============================] - 1s 31us/sample - loss: 0.3137 - acc: 0.9000 - val_loss: 0.3895 - val_acc: 0.8856\n",
      "Epoch 16/20\n",
      "42000/42000 [==============================] - 1s 30us/sample - loss: 0.2882 - acc: 0.9071 - val_loss: 0.3865 - val_acc: 0.8897\n",
      "Epoch 17/20\n",
      "42000/42000 [==============================] - 1s 30us/sample - loss: 0.2614 - acc: 0.9164 - val_loss: 0.3460 - val_acc: 0.9039\n",
      "Epoch 18/20\n",
      "42000/42000 [==============================] - 1s 31us/sample - loss: 0.2460 - acc: 0.9219 - val_loss: 0.3638 - val_acc: 0.8971\n",
      "Epoch 19/20\n",
      "42000/42000 [==============================] - 1s 30us/sample - loss: 0.2507 - acc: 0.9194 - val_loss: 0.3441 - val_acc: 0.9054\n",
      "Epoch 20/20\n",
      "42000/42000 [==============================] - 1s 31us/sample - loss: 0.2364 - acc: 0.9245 - val_loss: 0.3440 - val_acc: 0.9052\n"
     ]
    },
    {
     "data": {
      "text/plain": [
       "<tensorflow.python.keras.callbacks.History at 0x208c232a3c8>"
      ]
     },
     "execution_count": 104,
     "metadata": {},
     "output_type": "execute_result"
    }
   ],
   "source": [
    "model1.fit(X_train,y_train,validation_data=(X_val,y_val), epochs=20, batch_size=500)"
   ]
  },
  {
   "cell_type": "markdown",
   "metadata": {},
   "source": [
    "<b>Since changing the number of epochs doesn't help much with our validation loss, we can try changing the optimizer function</b>"
   ]
  },
  {
   "cell_type": "code",
   "execution_count": 95,
   "metadata": {},
   "outputs": [],
   "source": [
    "#Creating a new model\n",
    "tf.keras.backend.clear_session()\n",
    "model2 = tf.keras.Sequential()\n",
    "\n",
    "#Flatten layer 32 x 32 = 1024 parameters\n",
    "model2.add(tf.keras.layers.Reshape((1024,), input_shape=(32,32,)))\n",
    "\n",
    "model2.add(tf.keras.layers.BatchNormalization())\n",
    "\n",
    "#First hidden layer\n",
    "model2.add(tf.keras.layers.Dense(512,activation='relu'))\n",
    "model2.add(tf.keras.layers.Dense(256,activation='relu'))\n",
    "model2.add(tf.keras.layers.Dense(128,activation='relu'))\n",
    "model2.add(tf.keras.layers.Dense(64,activation='relu'))\n",
    "model2.add(tf.keras.layers.Dense(32,activation='relu'))\n",
    "\n",
    "model2.add(tf.keras.layers.Dense(10,activation='softmax'))\n",
    "\n",
    "#Compile\n",
    "adam = tf.keras.optimizers.Adam(lr=0.,decay=0.1)\n",
    "model2.compile(optimizer='adam',loss='categorical_crossentropy',metrics=['accuracy'])\n"
   ]
  },
  {
   "cell_type": "code",
   "execution_count": 96,
   "metadata": {},
   "outputs": [
    {
     "name": "stdout",
     "output_type": "stream",
     "text": [
      "Train on 42000 samples, validate on 60000 samples\n",
      "Epoch 1/5\n",
      "42000/42000 [==============================] - 2s 42us/sample - loss: 1.7080 - acc: 0.4131 - val_loss: 1.2268 - val_acc: 0.6201\n",
      "Epoch 2/5\n",
      "42000/42000 [==============================] - 1s 30us/sample - loss: 0.9777 - acc: 0.6973 - val_loss: 0.8491 - val_acc: 0.7401\n",
      "Epoch 3/5\n",
      "42000/42000 [==============================] - 1s 31us/sample - loss: 0.7814 - acc: 0.7573 - val_loss: 0.7031 - val_acc: 0.7864\n",
      "Epoch 4/5\n",
      "42000/42000 [==============================] - 2s 37us/sample - loss: 0.6820 - acc: 0.7873 - val_loss: 0.6424 - val_acc: 0.8040\n",
      "Epoch 5/5\n",
      "42000/42000 [==============================] - 1s 31us/sample - loss: 0.6153 - acc: 0.8090 - val_loss: 0.5851 - val_acc: 0.8222\n"
     ]
    },
    {
     "data": {
      "text/plain": [
       "<tensorflow.python.keras.callbacks.History at 0x208b46a8da0>"
      ]
     },
     "execution_count": 96,
     "metadata": {},
     "output_type": "execute_result"
    }
   ],
   "source": [
    "model2.fit(X_train,y_train,validation_data=(X_val,y_val), epochs=5, batch_size=500)"
   ]
  },
  {
   "cell_type": "code",
   "execution_count": 97,
   "metadata": {},
   "outputs": [
    {
     "name": "stdout",
     "output_type": "stream",
     "text": [
      "Train on 42000 samples, validate on 60000 samples\n",
      "Epoch 1/10\n",
      "42000/42000 [==============================] - 1s 32us/sample - loss: 0.5493 - acc: 0.8283 - val_loss: 0.5636 - val_acc: 0.8277\n",
      "Epoch 2/10\n",
      "42000/42000 [==============================] - 1s 34us/sample - loss: 0.5161 - acc: 0.8402 - val_loss: 0.5182 - val_acc: 0.8425\n",
      "Epoch 3/10\n",
      "42000/42000 [==============================] - 2s 42us/sample - loss: 0.4746 - acc: 0.8505 - val_loss: 0.4674 - val_acc: 0.8590\n",
      "Epoch 4/10\n",
      "42000/42000 [==============================] - 1s 30us/sample - loss: 0.4332 - acc: 0.8648 - val_loss: 0.4334 - val_acc: 0.8698\n",
      "Epoch 5/10\n",
      "42000/42000 [==============================] - 1s 30us/sample - loss: 0.4115 - acc: 0.8695 - val_loss: 0.4344 - val_acc: 0.8705\n",
      "Epoch 6/10\n",
      "42000/42000 [==============================] - 1s 31us/sample - loss: 0.3826 - acc: 0.8797 - val_loss: 0.4140 - val_acc: 0.8764\n",
      "Epoch 7/10\n",
      "42000/42000 [==============================] - 1s 30us/sample - loss: 0.3617 - acc: 0.8855 - val_loss: 0.4068 - val_acc: 0.8792\n",
      "Epoch 8/10\n",
      "42000/42000 [==============================] - 1s 31us/sample - loss: 0.3441 - acc: 0.8907 - val_loss: 0.3800 - val_acc: 0.8897\n",
      "Epoch 9/10\n",
      "42000/42000 [==============================] - 1s 30us/sample - loss: 0.3104 - acc: 0.9015 - val_loss: 0.3702 - val_acc: 0.8912\n",
      "Epoch 10/10\n",
      "42000/42000 [==============================] - 1s 30us/sample - loss: 0.3062 - acc: 0.9020 - val_loss: 0.3693 - val_acc: 0.8940\n"
     ]
    },
    {
     "data": {
      "text/plain": [
       "<tensorflow.python.keras.callbacks.History at 0x208c22f9c88>"
      ]
     },
     "execution_count": 97,
     "metadata": {},
     "output_type": "execute_result"
    }
   ],
   "source": [
    "model2.fit(X_train,y_train,validation_data=(X_val,y_val), epochs=10, batch_size=500)"
   ]
  },
  {
   "cell_type": "code",
   "execution_count": 98,
   "metadata": {},
   "outputs": [
    {
     "name": "stdout",
     "output_type": "stream",
     "text": [
      "Train on 42000 samples, validate on 60000 samples\n",
      "Epoch 1/20\n",
      "42000/42000 [==============================] - 1s 31us/sample - loss: 0.2813 - acc: 0.9110 - val_loss: 0.3418 - val_acc: 0.9034\n",
      "Epoch 2/20\n",
      "42000/42000 [==============================] - 1s 28us/sample - loss: 0.2608 - acc: 0.9173 - val_loss: 0.3379 - val_acc: 0.9046\n",
      "Epoch 3/20\n",
      "42000/42000 [==============================] - 1s 31us/sample - loss: 0.2488 - acc: 0.9207 - val_loss: 0.3628 - val_acc: 0.9001\n",
      "Epoch 4/20\n",
      "42000/42000 [==============================] - 1s 29us/sample - loss: 0.2312 - acc: 0.9259 - val_loss: 0.3245 - val_acc: 0.9106\n",
      "Epoch 5/20\n",
      "42000/42000 [==============================] - 1s 30us/sample - loss: 0.2243 - acc: 0.9285 - val_loss: 0.3295 - val_acc: 0.9100\n",
      "Epoch 6/20\n",
      "42000/42000 [==============================] - 1s 30us/sample - loss: 0.2221 - acc: 0.9288 - val_loss: 0.3460 - val_acc: 0.9051\n",
      "Epoch 7/20\n",
      "42000/42000 [==============================] - 1s 30us/sample - loss: 0.2201 - acc: 0.9291 - val_loss: 0.3171 - val_acc: 0.9154\n",
      "Epoch 8/20\n",
      "42000/42000 [==============================] - 1s 31us/sample - loss: 0.1964 - acc: 0.9372 - val_loss: 0.3344 - val_acc: 0.9117\n",
      "Epoch 9/20\n",
      "42000/42000 [==============================] - 1s 30us/sample - loss: 0.1951 - acc: 0.9373 - val_loss: 0.3373 - val_acc: 0.9113\n",
      "Epoch 10/20\n",
      "42000/42000 [==============================] - 1s 30us/sample - loss: 0.1885 - acc: 0.9398 - val_loss: 0.3244 - val_acc: 0.9170\n",
      "Epoch 11/20\n",
      "42000/42000 [==============================] - 1s 30us/sample - loss: 0.1876 - acc: 0.9396 - val_loss: 0.3205 - val_acc: 0.9207\n",
      "Epoch 12/20\n",
      "42000/42000 [==============================] - 1s 30us/sample - loss: 0.1634 - acc: 0.9479 - val_loss: 0.3145 - val_acc: 0.9215\n",
      "Epoch 13/20\n",
      "42000/42000 [==============================] - 1s 31us/sample - loss: 0.1634 - acc: 0.9466 - val_loss: 0.3073 - val_acc: 0.9259\n",
      "Epoch 14/20\n",
      "42000/42000 [==============================] - 1s 29us/sample - loss: 0.1506 - acc: 0.9520 - val_loss: 0.3468 - val_acc: 0.9157\n",
      "Epoch 15/20\n",
      "42000/42000 [==============================] - 1s 30us/sample - loss: 0.1510 - acc: 0.9510 - val_loss: 0.3102 - val_acc: 0.9265\n",
      "Epoch 16/20\n",
      "42000/42000 [==============================] - 1s 30us/sample - loss: 0.1508 - acc: 0.9517 - val_loss: 0.3103 - val_acc: 0.9291\n",
      "Epoch 17/20\n",
      "42000/42000 [==============================] - 1s 29us/sample - loss: 0.1367 - acc: 0.9557 - val_loss: 0.3300 - val_acc: 0.9228\n",
      "Epoch 18/20\n",
      "42000/42000 [==============================] - 1s 31us/sample - loss: 0.1427 - acc: 0.9542 - val_loss: 0.3200 - val_acc: 0.9288\n",
      "Epoch 19/20\n",
      "42000/42000 [==============================] - 1s 30us/sample - loss: 0.1339 - acc: 0.9565 - val_loss: 0.3148 - val_acc: 0.9310\n",
      "Epoch 20/20\n",
      "42000/42000 [==============================] - 1s 30us/sample - loss: 0.1280 - acc: 0.9590 - val_loss: 0.3158 - val_acc: 0.9313\n"
     ]
    },
    {
     "data": {
      "text/plain": [
       "<tensorflow.python.keras.callbacks.History at 0x208c230f780>"
      ]
     },
     "execution_count": 98,
     "metadata": {},
     "output_type": "execute_result"
    }
   ],
   "source": [
    "model2.fit(X_train,y_train,validation_data=(X_val,y_val), epochs=20, batch_size=500)"
   ]
  },
  {
   "cell_type": "markdown",
   "metadata": {},
   "source": [
    "By editing the learning rate we were not able to reduce the validation loss. We can try using Dropout to delete unused nodes"
   ]
  },
  {
   "cell_type": "code",
   "execution_count": 99,
   "metadata": {},
   "outputs": [
    {
     "name": "stdout",
     "output_type": "stream",
     "text": [
      "Train on 42000 samples, validate on 60000 samples\n",
      "Epoch 1/20\n",
      "42000/42000 [==============================] - 2s 45us/sample - loss: 2.3083 - acc: 0.1257 - val_loss: 2.2125 - val_acc: 0.1937\n",
      "Epoch 2/20\n",
      "42000/42000 [==============================] - 1s 31us/sample - loss: 1.9529 - acc: 0.2931 - val_loss: 1.4474 - val_acc: 0.5116\n",
      "Epoch 3/20\n",
      "42000/42000 [==============================] - 1s 31us/sample - loss: 1.4946 - acc: 0.4866 - val_loss: 1.1405 - val_acc: 0.6314\n",
      "Epoch 4/20\n",
      "42000/42000 [==============================] - 1s 31us/sample - loss: 1.2864 - acc: 0.5792 - val_loss: 0.9915 - val_acc: 0.6923\n",
      "Epoch 5/20\n",
      "42000/42000 [==============================] - 1s 30us/sample - loss: 1.1470 - acc: 0.6388 - val_loss: 0.8718 - val_acc: 0.7363\n",
      "Epoch 6/20\n",
      "42000/42000 [==============================] - 1s 30us/sample - loss: 1.0556 - acc: 0.6713 - val_loss: 0.8033 - val_acc: 0.7580\n",
      "Epoch 7/20\n",
      "42000/42000 [==============================] - 1s 31us/sample - loss: 0.9819 - acc: 0.6954 - val_loss: 0.7487 - val_acc: 0.7742\n",
      "Epoch 8/20\n",
      "42000/42000 [==============================] - 1s 31us/sample - loss: 0.9318 - acc: 0.7137 - val_loss: 0.7154 - val_acc: 0.7850\n",
      "Epoch 9/20\n",
      "42000/42000 [==============================] - 1s 31us/sample - loss: 0.8906 - acc: 0.7262 - val_loss: 0.6771 - val_acc: 0.7944\n",
      "Epoch 10/20\n",
      "42000/42000 [==============================] - 1s 30us/sample - loss: 0.8509 - acc: 0.7405 - val_loss: 0.6405 - val_acc: 0.8084\n",
      "Epoch 11/20\n",
      "42000/42000 [==============================] - 1s 30us/sample - loss: 0.8164 - acc: 0.7490 - val_loss: 0.6121 - val_acc: 0.8160\n",
      "Epoch 12/20\n",
      "42000/42000 [==============================] - 1s 32us/sample - loss: 0.7875 - acc: 0.7619 - val_loss: 0.5976 - val_acc: 0.8207\n",
      "Epoch 13/20\n",
      "42000/42000 [==============================] - 1s 30us/sample - loss: 0.7602 - acc: 0.7680 - val_loss: 0.5692 - val_acc: 0.8295\n",
      "Epoch 14/20\n",
      "42000/42000 [==============================] - 1s 31us/sample - loss: 0.7393 - acc: 0.7751 - val_loss: 0.5479 - val_acc: 0.8367\n",
      "Epoch 15/20\n",
      "42000/42000 [==============================] - 1s 30us/sample - loss: 0.7062 - acc: 0.7847 - val_loss: 0.5336 - val_acc: 0.8400\n",
      "Epoch 16/20\n",
      "42000/42000 [==============================] - 1s 31us/sample - loss: 0.6975 - acc: 0.7886 - val_loss: 0.5163 - val_acc: 0.8446\n",
      "Epoch 17/20\n",
      "42000/42000 [==============================] - 1s 31us/sample - loss: 0.6752 - acc: 0.7937 - val_loss: 0.5119 - val_acc: 0.8458\n",
      "Epoch 18/20\n",
      "42000/42000 [==============================] - 1s 31us/sample - loss: 0.6611 - acc: 0.7974 - val_loss: 0.4983 - val_acc: 0.8504\n",
      "Epoch 19/20\n",
      "42000/42000 [==============================] - 1s 31us/sample - loss: 0.6468 - acc: 0.8025 - val_loss: 0.4844 - val_acc: 0.8556\n",
      "Epoch 20/20\n",
      "42000/42000 [==============================] - 1s 30us/sample - loss: 0.6370 - acc: 0.8051 - val_loss: 0.4729 - val_acc: 0.8583\n"
     ]
    },
    {
     "data": {
      "text/plain": [
       "<tensorflow.python.keras.callbacks.History at 0x20775c49630>"
      ]
     },
     "execution_count": 99,
     "metadata": {},
     "output_type": "execute_result"
    }
   ],
   "source": [
    "tf.keras.backend.clear_session()\n",
    "model3 = tf.keras.Sequential()\n",
    "\n",
    "#Flatten layer 32 x 32 = 1024 parameters\n",
    "model3.add(tf.keras.layers.Reshape((1024,), input_shape=(32,32,)))\n",
    "\n",
    "model3.add(tf.keras.layers.BatchNormalization())\n",
    "\n",
    "#First hidden layer\n",
    "model3.add(tf.keras.layers.Dense(512,activation='relu'))\n",
    "model3.add(tf.keras.layers.Dropout(0.4))\n",
    "model3.add(tf.keras.layers.Dense(256,activation='relu'))\n",
    "model3.add(tf.keras.layers.Dropout(0.2))\n",
    "model3.add(tf.keras.layers.Dense(128,activation='relu'))\n",
    "model3.add(tf.keras.layers.Dropout(0.2))\n",
    "model3.add(tf.keras.layers.Dense(64,activation='relu'))\n",
    "model3.add(tf.keras.layers.Dropout(0.2))\n",
    "model3.add(tf.keras.layers.Dense(32,activation='relu'))\n",
    "\n",
    "model3.add(tf.keras.layers.Dense(10,activation='softmax'))\n",
    "\n",
    "#Compile\n",
    "adam = tf.keras.optimizers.Adam(lr=0.,decay=0.1)\n",
    "model3.compile(optimizer='adam',loss='categorical_crossentropy',metrics=['accuracy'])\n",
    "model3.fit(X_train,y_train,validation_data=(X_val,y_val), epochs=20, batch_size=500)"
   ]
  },
  {
   "cell_type": "code",
   "execution_count": 100,
   "metadata": {},
   "outputs": [
    {
     "name": "stdout",
     "output_type": "stream",
     "text": [
      "Train on 42000 samples, validate on 60000 samples\n",
      "Epoch 1/20\n",
      "42000/42000 [==============================] - 2s 45us/sample - loss: 2.3057 - acc: 0.1188 - val_loss: 2.2263 - val_acc: 0.1632\n",
      "Epoch 2/20\n",
      "42000/42000 [==============================] - 1s 30us/sample - loss: 1.7944 - acc: 0.3628 - val_loss: 1.2472 - val_acc: 0.6055\n",
      "Epoch 3/20\n",
      "42000/42000 [==============================] - 1s 32us/sample - loss: 1.2914 - acc: 0.5802 - val_loss: 0.9694 - val_acc: 0.7012\n",
      "Epoch 4/20\n",
      "42000/42000 [==============================] - 1s 30us/sample - loss: 1.1004 - acc: 0.6534 - val_loss: 0.8464 - val_acc: 0.7464\n",
      "Epoch 5/20\n",
      "42000/42000 [==============================] - 1s 30us/sample - loss: 0.9979 - acc: 0.6876 - val_loss: 0.7758 - val_acc: 0.7666\n",
      "Epoch 6/20\n",
      "42000/42000 [==============================] - 1s 31us/sample - loss: 0.9267 - acc: 0.7094 - val_loss: 0.7314 - val_acc: 0.7788\n",
      "Epoch 7/20\n",
      "42000/42000 [==============================] - 1s 30us/sample - loss: 0.8635 - acc: 0.7338 - val_loss: 0.6672 - val_acc: 0.7990\n",
      "Epoch 8/20\n",
      "42000/42000 [==============================] - 1s 32us/sample - loss: 0.8216 - acc: 0.7445 - val_loss: 0.6470 - val_acc: 0.8035\n",
      "Epoch 9/20\n",
      "42000/42000 [==============================] - 1s 30us/sample - loss: 0.7869 - acc: 0.7570 - val_loss: 0.6160 - val_acc: 0.8160\n",
      "Epoch 10/20\n",
      "42000/42000 [==============================] - 1s 30us/sample - loss: 0.7565 - acc: 0.7689 - val_loss: 0.5913 - val_acc: 0.8256\n",
      "Epoch 11/20\n",
      "42000/42000 [==============================] - 1s 31us/sample - loss: 0.7284 - acc: 0.7734 - val_loss: 0.5591 - val_acc: 0.8329\n",
      "Epoch 12/20\n",
      "42000/42000 [==============================] - 1s 30us/sample - loss: 0.7002 - acc: 0.7832 - val_loss: 0.5471 - val_acc: 0.8354\n",
      "Epoch 13/20\n",
      "42000/42000 [==============================] - 1s 32us/sample - loss: 0.6914 - acc: 0.7841 - val_loss: 0.5382 - val_acc: 0.8388\n",
      "Epoch 14/20\n",
      "42000/42000 [==============================] - 1s 30us/sample - loss: 0.6667 - acc: 0.7935 - val_loss: 0.5225 - val_acc: 0.8451\n",
      "Epoch 15/20\n",
      "42000/42000 [==============================] - 1s 31us/sample - loss: 0.6472 - acc: 0.7995 - val_loss: 0.4920 - val_acc: 0.8496\n",
      "Epoch 16/20\n",
      "42000/42000 [==============================] - 1s 31us/sample - loss: 0.6284 - acc: 0.8052 - val_loss: 0.4840 - val_acc: 0.8547\n",
      "Epoch 17/20\n",
      "42000/42000 [==============================] - 1s 30us/sample - loss: 0.6147 - acc: 0.8101 - val_loss: 0.4637 - val_acc: 0.8600\n",
      "Epoch 18/20\n",
      "42000/42000 [==============================] - 1s 31us/sample - loss: 0.5998 - acc: 0.8137 - val_loss: 0.4540 - val_acc: 0.8640\n",
      "Epoch 19/20\n",
      "42000/42000 [==============================] - 1s 30us/sample - loss: 0.5848 - acc: 0.8188 - val_loss: 0.4457 - val_acc: 0.8653\n",
      "Epoch 20/20\n",
      "42000/42000 [==============================] - 1s 31us/sample - loss: 0.5846 - acc: 0.8171 - val_loss: 0.4347 - val_acc: 0.8709\n"
     ]
    },
    {
     "data": {
      "text/plain": [
       "<tensorflow.python.keras.callbacks.History at 0x2070044ffd0>"
      ]
     },
     "execution_count": 100,
     "metadata": {},
     "output_type": "execute_result"
    }
   ],
   "source": [
    "tf.keras.backend.clear_session()\n",
    "model4 = tf.keras.Sequential()\n",
    "\n",
    "#Flatten layer 32 x 32 = 1024 parameters\n",
    "model4.add(tf.keras.layers.Reshape((1024,), input_shape=(32,32,)))\n",
    "\n",
    "model4.add(tf.keras.layers.BatchNormalization())\n",
    "\n",
    "#First hidden layer\n",
    "model4.add(tf.keras.layers.Dense(512,activation='relu'))\n",
    "model4.add(tf.keras.layers.Dropout(0.4))\n",
    "model4.add(tf.keras.layers.Dense(256,activation='relu'))\n",
    "model4.add(tf.keras.layers.Dropout(0.2))\n",
    "model4.add(tf.keras.layers.Dense(128,activation='relu'))\n",
    "model4.add(tf.keras.layers.Dropout(0.2))\n",
    "model4.add(tf.keras.layers.Dense(64,activation='relu'))\n",
    "model4.add(tf.keras.layers.Dense(32,activation='relu'))\n",
    "\n",
    "model4.add(tf.keras.layers.Dense(10,activation='softmax'))\n",
    "\n",
    "#Compile\n",
    "adam = tf.keras.optimizers.Adam(lr=0.1,decay=0.1)\n",
    "model4.compile(optimizer='adam',loss='categorical_crossentropy',metrics=['accuracy'])\n",
    "model4.fit(X_train,y_train,validation_data=(X_val,y_val), epochs=20, batch_size=500)"
   ]
  },
  {
   "cell_type": "markdown",
   "metadata": {},
   "source": [
    "Introducing Dropout gives undesired output. Trying with Relu Activation function. Athough all Dense layers already have Relu activation"
   ]
  },
  {
   "cell_type": "code",
   "execution_count": 101,
   "metadata": {},
   "outputs": [
    {
     "name": "stdout",
     "output_type": "stream",
     "text": [
      "Train on 42000 samples, validate on 60000 samples\n",
      "Epoch 1/20\n",
      "42000/42000 [==============================] - 2s 39us/sample - loss: 14.4803 - acc: 0.1006 - val_loss: 14.5063 - val_acc: 0.1000\n",
      "Epoch 2/20\n",
      "42000/42000 [==============================] - 1s 27us/sample - loss: 14.4940 - acc: 0.1008 - val_loss: 14.5063 - val_acc: 0.1000\n",
      "Epoch 3/20\n",
      "42000/42000 [==============================] - 1s 28us/sample - loss: 14.4940 - acc: 0.1008 - val_loss: 14.5063 - val_acc: 0.1000\n",
      "Epoch 4/20\n",
      "42000/42000 [==============================] - 1s 28us/sample - loss: 14.4940 - acc: 0.1008 - val_loss: 14.5063 - val_acc: 0.1000\n",
      "Epoch 5/20\n",
      "42000/42000 [==============================] - 1s 27us/sample - loss: 14.4940 - acc: 0.1008 - val_loss: 14.5063 - val_acc: 0.1000\n",
      "Epoch 6/20\n",
      "42000/42000 [==============================] - 1s 29us/sample - loss: 14.4940 - acc: 0.1008 - val_loss: 14.5063 - val_acc: 0.1000\n",
      "Epoch 7/20\n",
      "42000/42000 [==============================] - 1s 28us/sample - loss: 14.4940 - acc: 0.1008 - val_loss: 14.5063 - val_acc: 0.1000\n",
      "Epoch 8/20\n",
      "42000/42000 [==============================] - 2s 44us/sample - loss: 14.4940 - acc: 0.1008 - val_loss: 14.5063 - val_acc: 0.1000\n",
      "Epoch 9/20\n",
      "42000/42000 [==============================] - 1s 36us/sample - loss: 14.4940 - acc: 0.1008 - val_loss: 14.5063 - val_acc: 0.1000\n",
      "Epoch 10/20\n",
      "42000/42000 [==============================] - 1s 35us/sample - loss: 14.4940 - acc: 0.1008 - val_loss: 14.5063 - val_acc: 0.1000\n",
      "Epoch 11/20\n",
      "42000/42000 [==============================] - 1s 31us/sample - loss: 14.4940 - acc: 0.1008 - val_loss: 14.5063 - val_acc: 0.1000\n",
      "Epoch 12/20\n",
      "42000/42000 [==============================] - 1s 30us/sample - loss: 14.4940 - acc: 0.1008 - val_loss: 14.5063 - val_acc: 0.1000\n",
      "Epoch 13/20\n",
      "42000/42000 [==============================] - 1s 30us/sample - loss: 14.4940 - acc: 0.1008 - val_loss: 14.5063 - val_acc: 0.1000\n",
      "Epoch 14/20\n",
      "42000/42000 [==============================] - 1s 29us/sample - loss: 14.4940 - acc: 0.1008 - val_loss: 14.5063 - val_acc: 0.1000\n",
      "Epoch 15/20\n",
      "42000/42000 [==============================] - 1s 28us/sample - loss: 14.4940 - acc: 0.1008 - val_loss: 14.5063 - val_acc: 0.1000\n",
      "Epoch 16/20\n",
      "42000/42000 [==============================] - 1s 29us/sample - loss: 14.4940 - acc: 0.1008 - val_loss: 14.5063 - val_acc: 0.1000\n",
      "Epoch 17/20\n",
      "42000/42000 [==============================] - 1s 29us/sample - loss: 14.4940 - acc: 0.1008 - val_loss: 14.5063 - val_acc: 0.1000\n",
      "Epoch 18/20\n",
      "42000/42000 [==============================] - 1s 30us/sample - loss: 14.4940 - acc: 0.1008 - val_loss: 14.5063 - val_acc: 0.1000\n",
      "Epoch 19/20\n",
      "42000/42000 [==============================] - 1s 28us/sample - loss: 14.4940 - acc: 0.1008 - val_loss: 14.5063 - val_acc: 0.1000\n",
      "Epoch 20/20\n",
      "42000/42000 [==============================] - 1s 28us/sample - loss: 14.4940 - acc: 0.1008 - val_loss: 14.5063 - val_acc: 0.1000\n"
     ]
    },
    {
     "data": {
      "text/plain": [
       "<tensorflow.python.keras.callbacks.History at 0x207025f9978>"
      ]
     },
     "execution_count": 101,
     "metadata": {},
     "output_type": "execute_result"
    }
   ],
   "source": [
    "tf.keras.backend.clear_session()\n",
    "model5 = tf.keras.Sequential()\n",
    "\n",
    "#Flatten layer 32 x 32 = 1024 parameters\n",
    "model5.add(tf.keras.layers.Reshape((1024,), input_shape=(32,32,)))\n",
    "\n",
    "model5.add(tf.keras.layers.Activation('relu'))\n",
    "\n",
    "#First hidden layer\n",
    "model5.add(tf.keras.layers.Dense(512,activation='relu'))\n",
    "#model.add(tf.keras.layers.Dropout(0.4))\n",
    "model5.add(tf.keras.layers.Dense(256,activation='relu'))\n",
    "#model.add(tf.keras.layers.Dropout(0.2))\n",
    "model5.add(tf.keras.layers.Dense(128,activation='relu'))\n",
    "#model.add(tf.keras.layers.Dropout(0.2))\n",
    "model5.add(tf.keras.layers.Dense(64,activation='relu'))\n",
    "model5.add(tf.keras.layers.Dense(32,activation='relu'))\n",
    "\n",
    "model5.add(tf.keras.layers.Dense(10,activation='softmax'))\n",
    "\n",
    "#Compile\n",
    "adam = tf.keras.optimizers.Adam(lr=1,decay=0.3)\n",
    "model5.compile(optimizer=adam,loss='categorical_crossentropy',metrics=['accuracy'])\n",
    "model5.fit(X_train,y_train,validation_data=(X_val,y_val), epochs=20, batch_size=500)"
   ]
  },
  {
   "cell_type": "code",
   "execution_count": 105,
   "metadata": {},
   "outputs": [],
   "source": [
    "pred = model1.predict(X_test)"
   ]
  },
  {
   "cell_type": "code",
   "execution_count": 106,
   "metadata": {},
   "outputs": [
    {
     "data": {
      "text/plain": [
       "array([8.8788719e-09, 8.3746534e-07, 9.7289849e-08, 1.2970570e-06,\n",
       "       2.9906161e-08, 1.4262328e-09, 3.3988093e-10, 9.9999774e-01,\n",
       "       3.2280078e-11, 1.4649792e-08], dtype=float32)"
      ]
     },
     "execution_count": 106,
     "metadata": {},
     "output_type": "execute_result"
    }
   ],
   "source": [
    "pred[99]"
   ]
  },
  {
   "cell_type": "code",
   "execution_count": 107,
   "metadata": {},
   "outputs": [
    {
     "data": {
      "text/plain": [
       "array([0., 0., 0., 0., 0., 0., 0., 1., 0., 0.], dtype=float32)"
      ]
     },
     "execution_count": 107,
     "metadata": {},
     "output_type": "execute_result"
    }
   ],
   "source": [
    "y_test[99]"
   ]
  },
  {
   "cell_type": "code",
   "execution_count": 108,
   "metadata": {},
   "outputs": [],
   "source": [
    "pred=model1.predict_classes(X_test)"
   ]
  },
  {
   "cell_type": "code",
   "execution_count": 109,
   "metadata": {},
   "outputs": [
    {
     "data": {
      "text/plain": [
       "7"
      ]
     },
     "execution_count": 109,
     "metadata": {},
     "output_type": "execute_result"
    }
   ],
   "source": [
    "pred[99]"
   ]
  },
  {
   "cell_type": "code",
   "execution_count": 110,
   "metadata": {},
   "outputs": [
    {
     "data": {
      "image/png": "[encoded data removed]",
      "text/plain": [
       "<Figure size 432x288 with 1 Axes>"
      ]
     },
     "metadata": {
      "needs_background": "light"
     },
     "output_type": "display_data"
    }
   ],
   "source": [
    "plt.imshow(X_test[99])\n",
    "plt.show()"
   ]
  },
  {
   "cell_type": "markdown",
   "metadata": {},
   "source": [
    "Model 1 with simultaneous Dense layers with nodes having Relu Activation Function and  count changing by a factor of 2 in each subsequent layer without any dropout function has the highest accuracy in validation and the lowest validation loss."
   ]
  }
 ],
 "metadata": {
  "kernelspec": {
   "display_name": "Python 3",
   "language": "python",
   "name": "python3"
  },
  "language_info": {
   "codemirror_mode": {
    "name": "ipython",
    "version": 3
   },
   "file_extension": ".py",
   "mimetype": "text/x-python",
   "name": "python",
   "nbconvert_exporter": "python",
   "pygments_lexer": "ipython3",
   "version": "3.7.1"
  }
 },
 "nbformat": 4,
 "nbformat_minor": 2
}
